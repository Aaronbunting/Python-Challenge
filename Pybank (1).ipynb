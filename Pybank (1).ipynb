{
  "metadata": {
    "language_info": {
      "codemirror_mode": {
        "name": "python",
        "version": 3
      },
      "file_extension": ".py",
      "mimetype": "text/x-python",
      "name": "python",
      "nbconvert_exporter": "python",
      "pygments_lexer": "ipython3",
      "version": "3.8"
    },
    "kernelspec": {
      "name": "python",
      "display_name": "Python (Pyodide)",
      "language": "python"
    }
  },
  "nbformat_minor": 4,
  "nbformat": 4,
  "cells": [
    {
      "cell_type": "code",
      "source": "",
      "metadata": {
        "trusted": true
      },
      "execution_count": 1,
      "outputs": []
    },
    {
      "cell_type": "code",
      "source": "#import pandas\n\nimport pandas as pd\nfrom pathlib import Path \n\n# Read CSV File \nfile_read = Path('/drive/notebooks/budget_data.csv')\ndf = pd.read_csv(file_read)\n\n#Calculate the total number of months utilizing the length function\nnum_months = len(df)\n\n# Net profit calculation: Profit/Losses over the entire period\nnet_profit_loss = df[\"Profit/Losses\"].sum()\n\n# Average Change Calculation: Profit/Losses over the entire period\ndf[\"Shifted\"] = df[\"Profit/Losses\"].shift(1)\ndf[\"Change\"] = df[\"Profit/Losses\"] - df[\"Shifted\"]\n\navg_change = df[\"Change\"].mean()\n   \n# Locate the greatest increase in profits inlclude date a\ngreatest_increase = df.loc[df[\"Change\"].idxmax()]\ngreatest_increase_date = greatest_increase[\"Date\"]\ngreatest_increase_amount = greatest_increase[\"Change\"]\n\ngreatest_decrease = df.loc[df[\"Change\"].idxmin()]\ngreatest_decrease_date = greatest_decrease[\"Date\"]\ngreatest_decrease_amount = greatest_decrease[\"Change\"]\n\n\nprint(\"Financial Analysis\")\nprint(\"-\" * 25)\nprint(f\"Total Months: {num_months}\")\n\nprint(f\"Total: ${net_profit_loss}\")\n\nprint(f\"Average Change: ${avg_change:.2f}\")\n\nprint(f\"Greatest Increase in Profits: {greatest_increase_date} (${greatest_increase_amount:.0f})\")\n\nprint(f\"Greatest Decrease in Losses: {greatest_decrease_date} (${greatest_decrease_amount:.0f})\")",
      "metadata": {
        "trusted": true
      },
      "execution_count": 12,
      "outputs": [
        {
          "name": "stdout",
          "text": "Financial Analysis\n-------------------------\nTotal Months: 86\nTotal: $38382578\nAverage Change: $-2315.12\nGreatest Increase in Profits: Feb-2012 ($1926159)\nGreatest Decrease in Losses: Sep-2013 ($-2196167)\n",
          "output_type": "stream"
        }
      ]
    },
    {
      "cell_type": "code",
      "source": "",
      "metadata": {},
      "execution_count": null,
      "outputs": []
    }
  ]
}